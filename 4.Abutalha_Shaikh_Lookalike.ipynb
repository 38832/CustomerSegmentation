{
  "nbformat": 4,
  "nbformat_minor": 0,
  "metadata": {
    "colab": {
      "provenance": []
    },
    "kernelspec": {
      "name": "python3",
      "display_name": "Python 3"
    },
    "language_info": {
      "name": "python"
    }
  },
  "cells": [
    {
      "cell_type": "markdown",
      "source": [
        "# Lookalike Model: Customer Similarity Based on Profile and Transaction History\n",
        "\n",
        "The objective of this task is to build a Lookalike Model. The model will assign a similarity score to customer.\n",
        "\n",
        "### 1. Importing Required Libraries\n",
        "\n",
        "We begin by importing the necessary libraries:"
      ],
      "metadata": {
        "id": "dV2cuROCkyHL"
      }
    },
    {
      "cell_type": "code",
      "source": [
        "import pandas as pd\n",
        "import numpy as np\n",
        "from sklearn.metrics.pairwise import cosine_similarity\n",
        "from sklearn.preprocessing import StandardScaler"
      ],
      "metadata": {
        "id": "uKSGQJvifk54"
      },
      "execution_count": 18,
      "outputs": []
    },
    {
      "cell_type": "markdown",
      "source": [
        "### 2. Loading Data\n",
        "\n",
        "Next, we load the datasets:\n"
      ],
      "metadata": {
        "id": "Oe8-HM5JlW4S"
      }
    },
    {
      "cell_type": "code",
      "source": [
        "df_customers = pd.read_csv('Customers.csv')\n",
        "df_products = pd.read_csv('Products.csv')\n",
        "df_transactions = pd.read_csv('Transactions.csv')"
      ],
      "metadata": {
        "id": "bHNIkMRRfl-G"
      },
      "execution_count": 19,
      "outputs": []
    },
    {
      "cell_type": "markdown",
      "source": [
        "### 3. Merging Data\n",
        "\n",
        "To build a comprehensive dataset for similarity calculations, we merge the transactions, customer details, and product information."
      ],
      "metadata": {
        "id": "aVQMuw97lmQV"
      }
    },
    {
      "cell_type": "code",
      "source": [
        "merged_data = df_transactions.merge(df_customers, on='CustomerID')\n",
        "merged_data = merged_data.merge(df_products, on='ProductID')"
      ],
      "metadata": {
        "id": "ABU07LK5fobG"
      },
      "execution_count": 20,
      "outputs": []
    },
    {
      "cell_type": "markdown",
      "source": [
        "### 4. Extracting Customer Features  \n",
        "\n",
        "To compute similarity between customers, we extract key behavioral features from the merged dataset.  "
      ],
      "metadata": {
        "id": "IbbmOwWHlxd6"
      }
    },
    {
      "cell_type": "code",
      "source": [
        "customer_features = merged_data.groupby('CustomerID').agg(\n",
        "    total_spending=('TotalValue', 'sum'),\n",
        "    transaction_count=('TransactionID', 'nunique'),\n",
        "    avg_spending=('TotalValue', 'mean'),\n",
        ").reset_index()"
      ],
      "metadata": {
        "id": "dEso7l-HftJb"
      },
      "execution_count": 21,
      "outputs": []
    },
    {
      "cell_type": "markdown",
      "source": [
        "### 5. Scaling Customer Features  \n",
        "\n",
        "To ensure that all features contribute equally to the similarity calculation, we standardize them using **StandardScaler**."
      ],
      "metadata": {
        "id": "n93iqPnIl6Oh"
      }
    },
    {
      "cell_type": "code",
      "source": [
        "scaler = StandardScaler()\n",
        "customer_features[['total_spending', 'transaction_count', 'avg_spending']] = scaler.fit_transform(\n",
        "    customer_features[['total_spending', 'transaction_count', 'avg_spending']]\n",
        ")"
      ],
      "metadata": {
        "id": "kzpwYTiQfvzp"
      },
      "execution_count": 22,
      "outputs": []
    },
    {
      "cell_type": "markdown",
      "source": [
        "### 6. Computing Customer Similarity  \n",
        "\n",
        "We calculate the similarity between customers using **cosine similarity**, which measures the cosine of the angle between feature vectors."
      ],
      "metadata": {
        "id": "aLUfIdnqmFwH"
      }
    },
    {
      "cell_type": "code",
      "source": [
        "cos_sim = cosine_similarity(customer_features[['total_spending', 'transaction_count', 'avg_spending']])"
      ],
      "metadata": {
        "id": "wU_l3nqkfzb-"
      },
      "execution_count": 23,
      "outputs": []
    },
    {
      "cell_type": "markdown",
      "source": [
        "### 7. Creating the Lookalike Recommendations File  \n",
        "\n",
        "After computing customer similarity, we generate a structured dataset that maps each customer to their top lookalikes along with their similarity scores."
      ],
      "metadata": {
        "id": "ilEYpeJwmNfT"
      }
    },
    {
      "cell_type": "code",
      "source": [
        "lookalike_df = pd.DataFrame(flattened_data, columns=['CustomerID', 'Lookalike_ID', 'Similarity_Score'])\n",
        "lookalike_df.to_csv('Lookalike.csv', index=False, header=True)"
      ],
      "metadata": {
        "id": "OjJr8uEMgqNG"
      },
      "execution_count": 29,
      "outputs": []
    },
    {
      "cell_type": "markdown",
      "source": [
        "### 8. Finding the Top 3 Lookalike Customers  \n",
        "\n",
        "For each of the first 20 customers, we identify their 3 most similar customers based on cosine similarity.  "
      ],
      "metadata": {
        "id": "7Ujm6Vcamc0k"
      }
    },
    {
      "cell_type": "code",
      "source": [
        "for i in range(20):\n",
        "    customer_id = customer_features.iloc[i]['CustomerID']\n",
        "    similarity_scores = cos_sim[i]\n",
        "\n",
        "\n",
        "    similar_customers = sorted(\n",
        "        [(customer_features.iloc[j]['CustomerID'], round(similarity_scores[j], 6))\n",
        "         for j in range(len(similarity_scores)) if i != j],\n",
        "        key=lambda x: x[1], reverse=True\n",
        "    )[:3]\n",
        "\n",
        "    lookalike_map[customer_id] = similar_customers"
      ],
      "metadata": {
        "id": "_4gPrBHThb94"
      },
      "execution_count": 32,
      "outputs": []
    },
    {
      "cell_type": "markdown",
      "source": [
        "### 10. Saving the Lookalike Data  \n",
        "\n",
        "After identifying the top 3 similar customers for each of the first 20 customers, we store the results in a structured CSV file.  \n",
        "\n"
      ],
      "metadata": {
        "id": "HbWonufsmnTU"
      }
    },
    {
      "cell_type": "code",
      "source": [
        "lookalike_df = pd.DataFrame({'CustomerID': list(lookalike_map.keys()), 'Lookalikes': list(lookalike_map.values())})\n",
        "lookalike_df.to_csv('Lookalike.csv', index=False)"
      ],
      "metadata": {
        "id": "ETJ0tpj0h86a"
      },
      "execution_count": 33,
      "outputs": []
    }
  ]
}